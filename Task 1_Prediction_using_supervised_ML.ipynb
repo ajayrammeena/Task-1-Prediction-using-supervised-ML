{
 "cells": [
  {
   "cell_type": "markdown",
   "id": "730154d8",
   "metadata": {},
   "source": [
    "# GRIP : The Sparks Foundation "
   ]
  },
  {
   "cell_type": "markdown",
   "id": "86ac2d16",
   "metadata": {},
   "source": [
    "# Data Science & Business Analytics Internship\n"
   ]
  },
  {
   "cell_type": "markdown",
   "id": "83736672",
   "metadata": {},
   "source": [
    "# Author : Ajay Ram Meena"
   ]
  },
  {
   "cell_type": "markdown",
   "id": "318d9970",
   "metadata": {},
   "source": [
    "# Task 1: Prediction using supervised ML"
   ]
  },
  {
   "cell_type": "markdown",
   "id": "32c83b33",
   "metadata": {},
   "source": [
    "### Objective: To predict the percentage of marks of a student based on number of hours they studied."
   ]
  },
  {
   "cell_type": "markdown",
   "id": "d8b9599d",
   "metadata": {},
   "source": [
    "In this regression task we will predict the percentage of marks that a student is expected to score based upon the number of hours they studied. This is a simple linear regression task as it involves just two variables."
   ]
  },
  {
   "cell_type": "code",
   "execution_count": 1,
   "id": "d49dcd39",
   "metadata": {
    "scrolled": true
   },
   "outputs": [],
   "source": [
    "# Importing all libraries required in this notebook\n",
    "import numpy as np  \n",
    "import pandas as pd\n",
    "import matplotlib.pyplot as plt  \n",
    "%matplotlib inline"
   ]
  },
  {
   "cell_type": "markdown",
   "id": "140f073d",
   "metadata": {},
   "source": [
    "####  The data is provided through an external link. So, firstly we are importing the data here."
   ]
  },
  {
   "cell_type": "code",
   "execution_count": 2,
   "id": "079b4944",
   "metadata": {},
   "outputs": [
    {
     "name": "stdout",
     "output_type": "stream",
     "text": [
      "Data has been read & imported successfully\n"
     ]
    },
    {
     "data": {
      "text/html": [
       "<div>\n",
       "<style scoped>\n",
       "    .dataframe tbody tr th:only-of-type {\n",
       "        vertical-align: middle;\n",
       "    }\n",
       "\n",
       "    .dataframe tbody tr th {\n",
       "        vertical-align: top;\n",
       "    }\n",
       "\n",
       "    .dataframe thead th {\n",
       "        text-align: right;\n",
       "    }\n",
       "</style>\n",
       "<table border=\"1\" class=\"dataframe\">\n",
       "  <thead>\n",
       "    <tr style=\"text-align: right;\">\n",
       "      <th></th>\n",
       "      <th>Hours</th>\n",
       "      <th>Scores</th>\n",
       "    </tr>\n",
       "  </thead>\n",
       "  <tbody>\n",
       "    <tr>\n",
       "      <th>0</th>\n",
       "      <td>2.5</td>\n",
       "      <td>21</td>\n",
       "    </tr>\n",
       "    <tr>\n",
       "      <th>1</th>\n",
       "      <td>5.1</td>\n",
       "      <td>47</td>\n",
       "    </tr>\n",
       "    <tr>\n",
       "      <th>2</th>\n",
       "      <td>3.2</td>\n",
       "      <td>27</td>\n",
       "    </tr>\n",
       "    <tr>\n",
       "      <th>3</th>\n",
       "      <td>8.5</td>\n",
       "      <td>75</td>\n",
       "    </tr>\n",
       "    <tr>\n",
       "      <th>4</th>\n",
       "      <td>3.5</td>\n",
       "      <td>30</td>\n",
       "    </tr>\n",
       "  </tbody>\n",
       "</table>\n",
       "</div>"
      ],
      "text/plain": [
       "   Hours  Scores\n",
       "0    2.5      21\n",
       "1    5.1      47\n",
       "2    3.2      27\n",
       "3    8.5      75\n",
       "4    3.5      30"
      ]
     },
     "execution_count": 2,
     "metadata": {},
     "output_type": "execute_result"
    }
   ],
   "source": [
    "# Reading data from remote link\n",
    "url = \"http://bit.ly/w-data\"\n",
    "dataset = pd.read_csv(url)\n",
    "print(\"Data has been read & imported successfully\")\n",
    "\n",
    "dataset.head()"
   ]
  },
  {
   "cell_type": "markdown",
   "id": "5fa0d06e",
   "metadata": {},
   "source": [
    "#### pandas have a function describe() which is return statistical summary of data frame."
   ]
  },
  {
   "cell_type": "code",
   "execution_count": 3,
   "id": "e6c921f4",
   "metadata": {},
   "outputs": [
    {
     "data": {
      "text/html": [
       "<div>\n",
       "<style scoped>\n",
       "    .dataframe tbody tr th:only-of-type {\n",
       "        vertical-align: middle;\n",
       "    }\n",
       "\n",
       "    .dataframe tbody tr th {\n",
       "        vertical-align: top;\n",
       "    }\n",
       "\n",
       "    .dataframe thead th {\n",
       "        text-align: right;\n",
       "    }\n",
       "</style>\n",
       "<table border=\"1\" class=\"dataframe\">\n",
       "  <thead>\n",
       "    <tr style=\"text-align: right;\">\n",
       "      <th></th>\n",
       "      <th>Hours</th>\n",
       "      <th>Scores</th>\n",
       "    </tr>\n",
       "  </thead>\n",
       "  <tbody>\n",
       "    <tr>\n",
       "      <th>count</th>\n",
       "      <td>25.000000</td>\n",
       "      <td>25.000000</td>\n",
       "    </tr>\n",
       "    <tr>\n",
       "      <th>mean</th>\n",
       "      <td>5.012000</td>\n",
       "      <td>51.480000</td>\n",
       "    </tr>\n",
       "    <tr>\n",
       "      <th>std</th>\n",
       "      <td>2.525094</td>\n",
       "      <td>25.286887</td>\n",
       "    </tr>\n",
       "    <tr>\n",
       "      <th>min</th>\n",
       "      <td>1.100000</td>\n",
       "      <td>17.000000</td>\n",
       "    </tr>\n",
       "    <tr>\n",
       "      <th>25%</th>\n",
       "      <td>2.700000</td>\n",
       "      <td>30.000000</td>\n",
       "    </tr>\n",
       "    <tr>\n",
       "      <th>50%</th>\n",
       "      <td>4.800000</td>\n",
       "      <td>47.000000</td>\n",
       "    </tr>\n",
       "    <tr>\n",
       "      <th>75%</th>\n",
       "      <td>7.400000</td>\n",
       "      <td>75.000000</td>\n",
       "    </tr>\n",
       "    <tr>\n",
       "      <th>max</th>\n",
       "      <td>9.200000</td>\n",
       "      <td>95.000000</td>\n",
       "    </tr>\n",
       "  </tbody>\n",
       "</table>\n",
       "</div>"
      ],
      "text/plain": [
       "           Hours     Scores\n",
       "count  25.000000  25.000000\n",
       "mean    5.012000  51.480000\n",
       "std     2.525094  25.286887\n",
       "min     1.100000  17.000000\n",
       "25%     2.700000  30.000000\n",
       "50%     4.800000  47.000000\n",
       "75%     7.400000  75.000000\n",
       "max     9.200000  95.000000"
      ]
     },
     "execution_count": 3,
     "metadata": {},
     "output_type": "execute_result"
    }
   ],
   "source": [
    "dataset.describe()"
   ]
  },
  {
   "cell_type": "code",
   "execution_count": 4,
   "id": "1703303c",
   "metadata": {},
   "outputs": [
    {
     "name": "stdout",
     "output_type": "stream",
     "text": [
      "<class 'pandas.core.frame.DataFrame'>\n",
      "RangeIndex: 25 entries, 0 to 24\n",
      "Data columns (total 2 columns):\n",
      " #   Column  Non-Null Count  Dtype  \n",
      "---  ------  --------------  -----  \n",
      " 0   Hours   25 non-null     float64\n",
      " 1   Scores  25 non-null     int64  \n",
      "dtypes: float64(1), int64(1)\n",
      "memory usage: 528.0 bytes\n"
     ]
    }
   ],
   "source": [
    "dataset.info()"
   ]
  },
  {
   "cell_type": "markdown",
   "id": "2b438d67",
   "metadata": {},
   "source": [
    "#### Now we will analyse the provided data by plotting Graph using matplotlib Library"
   ]
  },
  {
   "cell_type": "code",
   "execution_count": 5,
   "id": "24d826d8",
   "metadata": {},
   "outputs": [
    {
     "data": {
      "image/png": "[encoded data removed]",
      "text/plain": [
       "<Figure size 432x288 with 1 Axes>"
      ]
     },
     "metadata": {
      "needs_background": "light"
     },
     "output_type": "display_data"
    }
   ],
   "source": [
    "# Plotting the distribution of scores\n",
    "dataset.plot(x='Hours', y='Scores', style='o') \n",
    "font1 = {'family':'serif','color':'blue','size':20}\n",
    "font2 = {'family':'serif','color':'darkred','size':15}\n",
    "plt.title(\"Hours vs Percentage\",fontdict = font1)  \n",
    "plt.xlabel(\"Hours Studied\" , fontdict = font2)  \n",
    "plt.ylabel(\"Percentage Score\" , fontdict = font2)  \n",
    "plt.show()"
   ]
  },
  {
   "cell_type": "code",
   "execution_count": 6,
   "id": "73c52dba",
   "metadata": {},
   "outputs": [
    {
     "data": {
      "text/html": [
       "<div>\n",
       "<style scoped>\n",
       "    .dataframe tbody tr th:only-of-type {\n",
       "        vertical-align: middle;\n",
       "    }\n",
       "\n",
       "    .dataframe tbody tr th {\n",
       "        vertical-align: top;\n",
       "    }\n",
       "\n",
       "    .dataframe thead th {\n",
       "        text-align: right;\n",
       "    }\n",
       "</style>\n",
       "<table border=\"1\" class=\"dataframe\">\n",
       "  <thead>\n",
       "    <tr style=\"text-align: right;\">\n",
       "      <th></th>\n",
       "      <th>Hours</th>\n",
       "      <th>Scores</th>\n",
       "    </tr>\n",
       "  </thead>\n",
       "  <tbody>\n",
       "    <tr>\n",
       "      <th>Hours</th>\n",
       "      <td>1.000000</td>\n",
       "      <td>0.976191</td>\n",
       "    </tr>\n",
       "    <tr>\n",
       "      <th>Scores</th>\n",
       "      <td>0.976191</td>\n",
       "      <td>1.000000</td>\n",
       "    </tr>\n",
       "  </tbody>\n",
       "</table>\n",
       "</div>"
      ],
      "text/plain": [
       "           Hours    Scores\n",
       "Hours   1.000000  0.976191\n",
       "Scores  0.976191  1.000000"
      ]
     },
     "execution_count": 6,
     "metadata": {},
     "output_type": "execute_result"
    }
   ],
   "source": [
    "dataset.corr(method ='pearson')"
   ]
  },
  {
   "cell_type": "markdown",
   "id": "12c977fe",
   "metadata": {},
   "source": [
    "### Preparing the Data"
   ]
  },
  {
   "cell_type": "markdown",
   "id": "c6ff7e5e",
   "metadata": {},
   "source": [
    " The next step is to divide the data into \"attributes\" and \"labels\".Our attribute set will consist of the \"Hours\" column( Attributes are the independent variables), and the label will be the \"Score\" column(labels are dependent variables whose values are to be predicted)."
   ]
  },
  {
   "cell_type": "code",
   "execution_count": 7,
   "id": "1b10ff40",
   "metadata": {},
   "outputs": [],
   "source": [
    "X = dataset.iloc[:, :-1].values  \n",
    "y = dataset.iloc[:, 1].values \n",
    "m = len(y) #number of traning example"
   ]
  },
  {
   "cell_type": "code",
   "execution_count": 8,
   "id": "c26f5184",
   "metadata": {},
   "outputs": [],
   "source": [
    "X = X[:,np.newaxis]\n"
   ]
  },
  {
   "cell_type": "code",
   "execution_count": 9,
   "id": "e42ebb1f",
   "metadata": {},
   "outputs": [],
   "source": [
    "X = X[:,:,0]"
   ]
  },
  {
   "cell_type": "code",
   "execution_count": 10,
   "id": "5c739baf",
   "metadata": {},
   "outputs": [],
   "source": [
    "y = y[:,np.newaxis]"
   ]
  },
  {
   "cell_type": "markdown",
   "id": "878806d9",
   "metadata": {},
   "source": [
    "### ML Simple Linear Regression Algorithm Part\n"
   ]
  },
  {
   "cell_type": "code",
   "execution_count": 11,
   "id": "7fc0d64c",
   "metadata": {},
   "outputs": [
    {
     "name": "stdout",
     "output_type": "stream",
     "text": [
      "[[0.]\n",
      " [0.]]\n",
      "[[1.  2.5]\n",
      " [1.  5.1]\n",
      " [1.  3.2]\n",
      " [1.  8.5]\n",
      " [1.  3.5]\n",
      " [1.  1.5]\n",
      " [1.  9.2]\n",
      " [1.  5.5]\n",
      " [1.  8.3]\n",
      " [1.  2.7]\n",
      " [1.  7.7]\n",
      " [1.  5.9]\n",
      " [1.  4.5]\n",
      " [1.  3.3]\n",
      " [1.  1.1]\n",
      " [1.  8.9]\n",
      " [1.  2.5]\n",
      " [1.  1.9]\n",
      " [1.  6.1]\n",
      " [1.  7.4]\n",
      " [1.  2.7]\n",
      " [1.  4.8]\n",
      " [1.  3.8]\n",
      " [1.  6.9]\n",
      " [1.  7.8]]\n"
     ]
    }
   ],
   "source": [
    "# Please don't run this cell more than one time\n",
    "theta = np.zeros([2,1])\n",
    "print(theta)\n",
    "iterations = 2000\n",
    "alpha = 0.01\n",
    "ones = np.ones((m,1))\n",
    "X = np.hstack((ones,X))\n",
    "print(X)"
   ]
  },
  {
   "cell_type": "code",
   "execution_count": 12,
   "id": "4892d21f",
   "metadata": {},
   "outputs": [],
   "source": [
    "def ComputeCost(X,y,theta):\n",
    "    temp = np.dot(X,theta)-y\n",
    "    print(temp)\n",
    "    return np.sum(np.power(temp,2))/(2*m)"
   ]
  },
  {
   "cell_type": "code",
   "execution_count": 13,
   "id": "a0add483",
   "metadata": {},
   "outputs": [
    {
     "name": "stdout",
     "output_type": "stream",
     "text": [
      "[[2.46438177]\n",
      " [9.77891737]]\n"
     ]
    }
   ],
   "source": [
    "def gradientDescent(X, y, theta, alpha, iterations):\n",
    "    for i in range(iterations):\n",
    "        temp1 = np.dot(X, theta) - y\n",
    "        temp1 = np.dot(X.T,temp1)\n",
    "        theta = theta - (alpha / m) * temp1\n",
    "    return theta\n",
    "theta = gradientDescent(X, y, theta, alpha, iterations)\n",
    "print(theta)"
   ]
  },
  {
   "cell_type": "markdown",
   "id": "9a537708",
   "metadata": {},
   "source": [
    "#### Now we will plot the given data set as a scatter plot and the best fit line after ML Model deployed"
   ]
  },
  {
   "cell_type": "code",
   "execution_count": 14,
   "id": "623ab06f",
   "metadata": {},
   "outputs": [
    {
     "data": {
      "image/png": "[encoded data removed]",
      "text/plain": [
       "<Figure size 432x288 with 1 Axes>"
      ]
     },
     "metadata": {
      "needs_background": "light"
     },
     "output_type": "display_data"
    }
   ],
   "source": [
    "dataset.plot(x='Hours', y='Scores', style='o')\n",
    "font1 = {'family':'serif','color':'blue','size':20}\n",
    "font2 = {'family':'serif','color':'darkred','size':15}\n",
    "plt.xlabel(\"Hours vs Percentage\",fontdict = font1)  \n",
    "plt.ylabel(\"Hours S tudied\" , fontdict = font2)\n",
    "plt.plot(X[:,1],np.dot(X,theta))\n",
    "plt.show()"
   ]
  },
  {
   "cell_type": "markdown",
   "id": "a859fec7",
   "metadata": {},
   "source": [
    "#### Now our ML model is reday to predict  percentage of marks that a student is expected to score based upon the number of hours they studied."
   ]
  },
  {
   "cell_type": "code",
   "execution_count": 15,
   "id": "b033e9a5",
   "metadata": {},
   "outputs": [
    {
     "name": "stdout",
     "output_type": "stream",
     "text": [
      "Percentage score if a student studies 9.25hours/day is: 92.92 %\n"
     ]
    }
   ],
   "source": [
    "hrs = 9.25\n",
    "percent =float(theta[0]+theta[1]*hrs)\n",
    "print(\"Percentage score if a student studies 9.25hours/day is:\",round(percent,2),\"%\")"
   ]
  },
  {
   "cell_type": "markdown",
   "id": "b38604b6",
   "metadata": {},
   "source": [
    "###  Evaluating the model\n",
    "##### So we will make the prediction of our given data and calculate the Mean Absolute Error;  "
   ]
  },
  {
   "cell_type": "code",
   "execution_count": 16,
   "id": "ee53c7f9",
   "metadata": {},
   "outputs": [
    {
     "data": {
      "text/html": [
       "<div>\n",
       "<style scoped>\n",
       "    .dataframe tbody tr th:only-of-type {\n",
       "        vertical-align: middle;\n",
       "    }\n",
       "\n",
       "    .dataframe tbody tr th {\n",
       "        vertical-align: top;\n",
       "    }\n",
       "\n",
       "    .dataframe thead th {\n",
       "        text-align: right;\n",
       "    }\n",
       "</style>\n",
       "<table border=\"1\" class=\"dataframe\">\n",
       "  <thead>\n",
       "    <tr style=\"text-align: right;\">\n",
       "      <th></th>\n",
       "      <th>Actual</th>\n",
       "      <th>Predicted</th>\n",
       "    </tr>\n",
       "  </thead>\n",
       "  <tbody>\n",
       "    <tr>\n",
       "      <th>0</th>\n",
       "      <td>21</td>\n",
       "      <td>26.911675</td>\n",
       "    </tr>\n",
       "    <tr>\n",
       "      <th>1</th>\n",
       "      <td>47</td>\n",
       "      <td>52.336860</td>\n",
       "    </tr>\n",
       "    <tr>\n",
       "      <th>2</th>\n",
       "      <td>27</td>\n",
       "      <td>33.756917</td>\n",
       "    </tr>\n",
       "    <tr>\n",
       "      <th>3</th>\n",
       "      <td>75</td>\n",
       "      <td>85.585179</td>\n",
       "    </tr>\n",
       "    <tr>\n",
       "      <th>4</th>\n",
       "      <td>30</td>\n",
       "      <td>36.690593</td>\n",
       "    </tr>\n",
       "    <tr>\n",
       "      <th>5</th>\n",
       "      <td>20</td>\n",
       "      <td>17.132758</td>\n",
       "    </tr>\n",
       "    <tr>\n",
       "      <th>6</th>\n",
       "      <td>88</td>\n",
       "      <td>92.430422</td>\n",
       "    </tr>\n",
       "    <tr>\n",
       "      <th>7</th>\n",
       "      <td>60</td>\n",
       "      <td>56.248427</td>\n",
       "    </tr>\n",
       "    <tr>\n",
       "      <th>8</th>\n",
       "      <td>81</td>\n",
       "      <td>83.629396</td>\n",
       "    </tr>\n",
       "    <tr>\n",
       "      <th>9</th>\n",
       "      <td>25</td>\n",
       "      <td>28.867459</td>\n",
       "    </tr>\n",
       "    <tr>\n",
       "      <th>10</th>\n",
       "      <td>85</td>\n",
       "      <td>77.762046</td>\n",
       "    </tr>\n",
       "    <tr>\n",
       "      <th>11</th>\n",
       "      <td>62</td>\n",
       "      <td>60.159994</td>\n",
       "    </tr>\n",
       "    <tr>\n",
       "      <th>12</th>\n",
       "      <td>41</td>\n",
       "      <td>46.469510</td>\n",
       "    </tr>\n",
       "    <tr>\n",
       "      <th>13</th>\n",
       "      <td>42</td>\n",
       "      <td>34.734809</td>\n",
       "    </tr>\n",
       "    <tr>\n",
       "      <th>14</th>\n",
       "      <td>17</td>\n",
       "      <td>13.221191</td>\n",
       "    </tr>\n",
       "    <tr>\n",
       "      <th>15</th>\n",
       "      <td>95</td>\n",
       "      <td>89.496746</td>\n",
       "    </tr>\n",
       "    <tr>\n",
       "      <th>16</th>\n",
       "      <td>30</td>\n",
       "      <td>26.911675</td>\n",
       "    </tr>\n",
       "    <tr>\n",
       "      <th>17</th>\n",
       "      <td>24</td>\n",
       "      <td>21.044325</td>\n",
       "    </tr>\n",
       "    <tr>\n",
       "      <th>18</th>\n",
       "      <td>67</td>\n",
       "      <td>62.115778</td>\n",
       "    </tr>\n",
       "    <tr>\n",
       "      <th>19</th>\n",
       "      <td>69</td>\n",
       "      <td>74.828370</td>\n",
       "    </tr>\n",
       "    <tr>\n",
       "      <th>20</th>\n",
       "      <td>30</td>\n",
       "      <td>28.867459</td>\n",
       "    </tr>\n",
       "    <tr>\n",
       "      <th>21</th>\n",
       "      <td>54</td>\n",
       "      <td>49.403185</td>\n",
       "    </tr>\n",
       "    <tr>\n",
       "      <th>22</th>\n",
       "      <td>35</td>\n",
       "      <td>39.624268</td>\n",
       "    </tr>\n",
       "    <tr>\n",
       "      <th>23</th>\n",
       "      <td>76</td>\n",
       "      <td>69.938912</td>\n",
       "    </tr>\n",
       "    <tr>\n",
       "      <th>24</th>\n",
       "      <td>86</td>\n",
       "      <td>78.739937</td>\n",
       "    </tr>\n",
       "  </tbody>\n",
       "</table>\n",
       "</div>"
      ],
      "text/plain": [
       "    Actual  Predicted\n",
       "0       21  26.911675\n",
       "1       47  52.336860\n",
       "2       27  33.756917\n",
       "3       75  85.585179\n",
       "4       30  36.690593\n",
       "5       20  17.132758\n",
       "6       88  92.430422\n",
       "7       60  56.248427\n",
       "8       81  83.629396\n",
       "9       25  28.867459\n",
       "10      85  77.762046\n",
       "11      62  60.159994\n",
       "12      41  46.469510\n",
       "13      42  34.734809\n",
       "14      17  13.221191\n",
       "15      95  89.496746\n",
       "16      30  26.911675\n",
       "17      24  21.044325\n",
       "18      67  62.115778\n",
       "19      69  74.828370\n",
       "20      30  28.867459\n",
       "21      54  49.403185\n",
       "22      35  39.624268\n",
       "23      76  69.938912\n",
       "24      86  78.739937"
      ]
     },
     "execution_count": 16,
     "metadata": {},
     "output_type": "execute_result"
    }
   ],
   "source": [
    "predictions = []\n",
    "for i in range(len(X)):\n",
    "    predict = float(X[i][0]*theta[0]+X[i][1]*theta[1])\n",
    "    predictions.append(predict)\n",
    "df = pd.DataFrame({'Actual': dataset.iloc[:,-1].values , 'Predicted': predictions})  \n",
    "df "
   ]
  },
  {
   "cell_type": "markdown",
   "id": "0a558643",
   "metadata": {},
   "source": [
    "\n",
    "#### Now, we are finding Mean Absolute error"
   ]
  },
  {
   "cell_type": "code",
   "execution_count": 22,
   "id": "e9dfaf16",
   "metadata": {},
   "outputs": [
    {
     "name": "stdout",
     "output_type": "stream",
     "text": [
      "Mean Absolute Error is: 4.974136299532978\n"
     ]
    }
   ],
   "source": [
    "sum = 0\n",
    "for i in range(len(X)):\n",
    "    sum += abs(df.Predicted[i] - df.Actual[i])\n",
    "print(\"Mean Absolute Error is:\",(sum/25))"
   ]
  },
  {
   "cell_type": "markdown",
   "id": "c42958df",
   "metadata": {},
   "source": [
    "#### So we can use this ML model to make a pridiction."
   ]
  }
 ],
 "metadata": {
  "kernelspec": {
   "display_name": "Python 3",
   "language": "python",
   "name": "python3"
  },
  "language_info": {
   "codemirror_mode": {
    "name": "ipython",
    "version": 3
   },
   "file_extension": ".py",
   "mimetype": "text/x-python",
   "name": "python",
   "nbconvert_exporter": "python",
   "pygments_lexer": "ipython3",
   "version": "3.8.2"
  }
 },
 "nbformat": 4,
 "nbformat_minor": 5
}
